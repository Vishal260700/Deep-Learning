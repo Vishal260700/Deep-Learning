{
  "nbformat": 4,
  "nbformat_minor": 0,
  "metadata": {
    "colab": {
      "name": "MNIST_Fashion.ipynb",
      "version": "0.3.2",
      "provenance": [],
      "collapsed_sections": []
    },
    "kernelspec": {
      "name": "python3",
      "display_name": "Python 3"
    },
    "accelerator": "TPU"
  },
  "cells": [
    {
      "metadata": {
        "id": "j9lqXoCLz3S8",
        "colab_type": "code",
        "colab": {}
      },
      "cell_type": "code",
      "source": [
        "import tensorflow as tf\n",
        "import numpy as np\n",
        "import matplotlib.pyplot as plt\n",
        "import pandas as pd\n",
        "from tensorflow import keras"
      ],
      "execution_count": 0,
      "outputs": []
    },
    {
      "metadata": {
        "id": "Xsa3Xdvp0Feg",
        "colab_type": "code",
        "colab": {}
      },
      "cell_type": "code",
      "source": [
        "fashion = keras.datasets.fashion_mnist\n",
        "(x_train , y_train) , (x_test , y_test) = fashion.load_data()"
      ],
      "execution_count": 0,
      "outputs": []
    },
    {
      "metadata": {
        "id": "SkscDLP-0XBv",
        "colab_type": "code",
        "colab": {}
      },
      "cell_type": "code",
      "source": [
        "x_train = x_train/255\n",
        "x_test = x_test / 255"
      ],
      "execution_count": 0,
      "outputs": []
    },
    {
      "metadata": {
        "id": "mPYlyt0W0nXO",
        "colab_type": "code",
        "colab": {}
      },
      "cell_type": "code",
      "source": [
        "class_names = ['T-shirt/top', 'Trouser', 'Pullover', 'Dress', 'Coat', \n",
        "               'Sandal', 'Shirt', 'Sneaker', 'Bag', 'Ankle boot']"
      ],
      "execution_count": 0,
      "outputs": []
    },
    {
      "metadata": {
        "id": "XAO4mJtC0ueP",
        "colab_type": "code",
        "colab": {}
      },
      "cell_type": "code",
      "source": [
        "# model architecture\n",
        "model = keras.Sequential()"
      ],
      "execution_count": 0,
      "outputs": []
    },
    {
      "metadata": {
        "id": "Nhwc4OEI02UG",
        "colab_type": "code",
        "colab": {}
      },
      "cell_type": "code",
      "source": [
        "model.add(keras.layers.Flatten(input_shape = (28,28)))\n",
        "model.add(keras.layers.Dense(128 , activation = tf.nn.relu))\n",
        "model.add(keras.layers.Dense(10 , activation = tf.nn.softmax))"
      ],
      "execution_count": 0,
      "outputs": []
    },
    {
      "metadata": {
        "id": "1fQQS_3k1OQA",
        "colab_type": "code",
        "colab": {}
      },
      "cell_type": "code",
      "source": [
        "model.compile(optimizer = tf.train.AdamOptimizer() , loss = \"sparse_categorical_crossentropy\" , metrics = [\"accuracy\"])"
      ],
      "execution_count": 0,
      "outputs": []
    },
    {
      "metadata": {
        "id": "3uNArgAP1aUZ",
        "colab_type": "code",
        "colab": {
          "base_uri": "https://localhost:8080/",
          "height": 706
        },
        "outputId": "6be268a4-bb8a-4c23-cdde-b5378a3f06d3"
      },
      "cell_type": "code",
      "source": [
        "model.fit(x_train , y_train , epochs = 20)"
      ],
      "execution_count": 33,
      "outputs": [
        {
          "output_type": "stream",
          "text": [
            "Epoch 1/20\n",
            "60000/60000 [==============================] - 5s 90us/step - loss: 0.4977 - acc: 0.8256\n",
            "Epoch 2/20\n",
            "60000/60000 [==============================] - 5s 80us/step - loss: 0.3747 - acc: 0.8648\n",
            "Epoch 3/20\n",
            "60000/60000 [==============================] - 5s 80us/step - loss: 0.3388 - acc: 0.8767\n",
            "Epoch 4/20\n",
            "60000/60000 [==============================] - 5s 80us/step - loss: 0.3133 - acc: 0.8863\n",
            "Epoch 5/20\n",
            "60000/60000 [==============================] - 5s 80us/step - loss: 0.2957 - acc: 0.8912\n",
            "Epoch 6/20\n",
            "60000/60000 [==============================] - 5s 79us/step - loss: 0.2810 - acc: 0.8957\n",
            "Epoch 7/20\n",
            "60000/60000 [==============================] - 5s 82us/step - loss: 0.2683 - acc: 0.9012\n",
            "Epoch 8/20\n",
            "60000/60000 [==============================] - 5s 81us/step - loss: 0.2583 - acc: 0.9034\n",
            "Epoch 9/20\n",
            "60000/60000 [==============================] - 5s 76us/step - loss: 0.2485 - acc: 0.9073\n",
            "Epoch 10/20\n",
            "60000/60000 [==============================] - 5s 77us/step - loss: 0.2389 - acc: 0.9103\n",
            "Epoch 11/20\n",
            "60000/60000 [==============================] - 5s 80us/step - loss: 0.2311 - acc: 0.9129\n",
            "Epoch 12/20\n",
            "60000/60000 [==============================] - 5s 80us/step - loss: 0.2248 - acc: 0.9158\n",
            "Epoch 13/20\n",
            "60000/60000 [==============================] - 5s 80us/step - loss: 0.2164 - acc: 0.9196\n",
            "Epoch 14/20\n",
            "60000/60000 [==============================] - 5s 83us/step - loss: 0.2093 - acc: 0.9219\n",
            "Epoch 15/20\n",
            "60000/60000 [==============================] - 6s 93us/step - loss: 0.2041 - acc: 0.9233\n",
            "Epoch 16/20\n",
            "60000/60000 [==============================] - 5s 79us/step - loss: 0.1990 - acc: 0.9257\n",
            "Epoch 17/20\n",
            "60000/60000 [==============================] - 5s 91us/step - loss: 0.1931 - acc: 0.9274\n",
            "Epoch 18/20\n",
            "60000/60000 [==============================] - 6s 97us/step - loss: 0.1887 - acc: 0.9293\n",
            "Epoch 19/20\n",
            "60000/60000 [==============================] - 5s 80us/step - loss: 0.1834 - acc: 0.9314\n",
            "Epoch 20/20\n",
            "60000/60000 [==============================] - 5s 79us/step - loss: 0.1798 - acc: 0.9311\n"
          ],
          "name": "stdout"
        },
        {
          "output_type": "execute_result",
          "data": {
            "text/plain": [
              "<tensorflow.python.keras.callbacks.History at 0x7fd16cdac358>"
            ]
          },
          "metadata": {
            "tags": []
          },
          "execution_count": 33
        }
      ]
    },
    {
      "metadata": {
        "id": "Cmcxl4aH1qYk",
        "colab_type": "code",
        "colab": {
          "base_uri": "https://localhost:8080/",
          "height": 67
        },
        "outputId": "fb4bb9e2-3dad-4cbd-dae9-0b3545ee8528"
      },
      "cell_type": "code",
      "source": [
        "test_loss , test_acc = model.evaluate(x_test , y_test)\n",
        "print(test_loss)\n",
        "print(test_acc)"
      ],
      "execution_count": 35,
      "outputs": [
        {
          "output_type": "stream",
          "text": [
            "10000/10000 [==============================] - 0s 38us/step\n",
            "0.36034839099645616\n",
            "0.8868\n"
          ],
          "name": "stdout"
        }
      ]
    },
    {
      "metadata": {
        "id": "ABteprTE4KNW",
        "colab_type": "code",
        "colab": {
          "base_uri": "https://localhost:8080/",
          "height": 67
        },
        "outputId": "45cacd74-e446-472c-b096-a0ef7697d75c"
      },
      "cell_type": "code",
      "source": [
        "predictions = model.predict(x_test)\n",
        "print(np.argmax(predictions[0]))\n",
        "print(\"-------------------\")\n",
        "print(y_test[0])"
      ],
      "execution_count": 38,
      "outputs": [
        {
          "output_type": "stream",
          "text": [
            "9\n",
            "-------------------\n",
            "9\n"
          ],
          "name": "stdout"
        }
      ]
    },
    {
      "metadata": {
        "id": "a4fXsG274Nk8",
        "colab_type": "code",
        "colab": {}
      },
      "cell_type": "code",
      "source": [
        ""
      ],
      "execution_count": 0,
      "outputs": []
    }
  ]
}