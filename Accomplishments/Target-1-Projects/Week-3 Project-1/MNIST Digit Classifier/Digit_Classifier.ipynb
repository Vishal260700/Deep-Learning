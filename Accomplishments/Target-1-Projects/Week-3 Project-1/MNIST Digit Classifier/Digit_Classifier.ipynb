{
  "nbformat": 4,
  "nbformat_minor": 0,
  "metadata": {
    "colab": {
      "name": "Digit_Classifier.ipynb",
      "version": "0.3.2",
      "provenance": [],
      "collapsed_sections": []
    },
    "kernelspec": {
      "name": "python3",
      "display_name": "Python 3"
    },
    "accelerator": "TPU"
  },
  "cells": [
    {
      "metadata": {
        "id": "FfMqdm4h-tpU",
        "colab_type": "code",
        "colab": {}
      },
      "cell_type": "code",
      "source": [
        "import tensorflow as tf\n",
        "import matplotlib.pyplot as plt"
      ],
      "execution_count": 0,
      "outputs": []
    },
    {
      "metadata": {
        "id": "_fxXFZn0-0Gu",
        "colab_type": "code",
        "colab": {}
      },
      "cell_type": "code",
      "source": [
        "mnist = tf.keras.datasets.mnist\n",
        "\n",
        "(x_train , y_train) , (x_test , y_test) = mnist.load_data()\n",
        "\n",
        "x_train , x_test = x_train/255 , x_test/255"
      ],
      "execution_count": 0,
      "outputs": []
    },
    {
      "metadata": {
        "id": "5sfBlZ9u_C5g",
        "colab_type": "code",
        "colab": {}
      },
      "cell_type": "code",
      "source": [
        "# model architecture \n",
        "model = tf.keras.models.Sequential()\n",
        "model.add(tf.keras.layers.Flatten())\n",
        "model.add(tf.keras.layers.Dense(512 , activation = tf.nn.relu))\n",
        "model.add(tf.keras.layers.Dropout(0.25))\n",
        "model.add(tf.keras.layers.Dense(10 , activation = tf.nn.softmax))\n",
        "\n",
        "model.compile(loss = \"sparse_categorical_crossentropy\" , optimizer = \"adam\" , metrics = [\"accuracy\"])"
      ],
      "execution_count": 0,
      "outputs": []
    },
    {
      "metadata": {
        "id": "8M66B2V0_yH6",
        "colab_type": "code",
        "colab": {}
      },
      "cell_type": "code",
      "source": [
        "model.fit(x_train , y_train , epochs = 5)\n",
        "history = model.evaluate(x_test , y_test)"
      ],
      "execution_count": 0,
      "outputs": []
    },
    {
      "metadata": {
        "id": "uWqCU1RQ_7zT",
        "colab_type": "code",
        "colab": {}
      },
      "cell_type": "code",
      "source": [
        "print(history[0]) # loss\n",
        "print(history[1]) # accuracy"
      ],
      "execution_count": 0,
      "outputs": []
    },
    {
      "metadata": {
        "id": "Y86yv1y7BBs5",
        "colab_type": "code",
        "colab": {}
      },
      "cell_type": "code",
      "source": [
        "plt.imshow(x_test[0])\n",
        "pred = model.predict(x_test)[0]\n",
        "for n in [0,1,2,3,4,5,6,7,8,9]:\n",
        "  if(pred[n] > 0.9):\n",
        "    print(\"The give digit is classified as \" + str(n) + \" with an accuracy of \" + str(pred[n]))"
      ],
      "execution_count": 0,
      "outputs": []
    }
  ]
}