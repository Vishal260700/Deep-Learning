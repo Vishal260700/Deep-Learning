{
 "cells": [
  {
   "cell_type": "code",
   "execution_count": 3,
   "metadata": {},
   "outputs": [
    {
     "name": "stdout",
     "output_type": "stream",
     "text": [
      "WARNING:tensorflow:float64 is not supported by many models, consider casting to float32.\n",
      "INFO:tensorflow:Using default config.\n",
      "WARNING:tensorflow:Using temporary folder as model directory: C:\\Users\\visha\\AppData\\Local\\Temp\\tmp8216w8gq\n",
      "INFO:tensorflow:Using config: {'_task_type': None, '_task_id': 0, '_cluster_spec': <tensorflow.python.training.server_lib.ClusterSpec object at 0x000001E19EA07978>, '_master': '', '_num_ps_replicas': 0, '_num_worker_replicas': 0, '_environment': 'local', '_is_chief': True, '_evaluation_master': '', '_train_distribute': None, '_tf_config': gpu_options {\n",
      "  per_process_gpu_memory_fraction: 1.0\n",
      "}\n",
      ", '_tf_random_seed': None, '_save_summary_steps': 100, '_save_checkpoints_secs': 600, '_log_step_count_steps': 100, '_session_config': None, '_save_checkpoints_steps': None, '_keep_checkpoint_max': 5, '_keep_checkpoint_every_n_hours': 10000, '_model_dir': 'C:\\\\Users\\\\visha\\\\AppData\\\\Local\\\\Temp\\\\tmp8216w8gq'}\n",
      "WARNING:tensorflow:float64 is not supported by many models, consider casting to float32.\n",
      "INFO:tensorflow:Create CheckpointSaverHook.\n",
      "INFO:tensorflow:Graph was finalized.\n",
      "INFO:tensorflow:Running local_init_op.\n",
      "INFO:tensorflow:Done running local_init_op.\n",
      "INFO:tensorflow:Saving checkpoints for 1 into C:\\Users\\visha\\AppData\\Local\\Temp\\tmp8216w8gq\\model.ckpt.\n",
      "INFO:tensorflow:loss = 1.0986123, step = 1\n",
      "INFO:tensorflow:global_step/sec: 538.461\n",
      "INFO:tensorflow:loss = 0.36939698, step = 101 (0.189 sec)\n",
      "INFO:tensorflow:Saving checkpoints for 200 into C:\\Users\\visha\\AppData\\Local\\Temp\\tmp8216w8gq\\model.ckpt.\n",
      "INFO:tensorflow:Loss for final step: 0.23640117.\n",
      "WARNING:tensorflow:float64 is not supported by many models, consider casting to float32.\n",
      "INFO:tensorflow:Graph was finalized.\n",
      "INFO:tensorflow:Restoring parameters from C:\\Users\\visha\\AppData\\Local\\Temp\\tmp8216w8gq\\model.ckpt-200\n",
      "INFO:tensorflow:Running local_init_op.\n",
      "INFO:tensorflow:Done running local_init_op.\n",
      "0.9733333333333334\n"
     ]
    }
   ],
   "source": [
    "import tensorflow.contrib.learn as skflow\n",
    "from sklearn import datasets , metrics\n",
    "\n",
    "iris = datasets.load_iris()\n",
    "feature_columns = skflow.infer_real_valued_columns_from_input(iris.data)\n",
    "classifier = skflow.LinearClassifier(n_classes = 3,feature_columns=feature_columns)\n",
    "classifier.fit(iris.data , iris.target , steps = 200 , batch_size = 32)\n",
    "predictions = list(classifier.predict(iris.data))\n",
    "score = metrics.accuracy_score(iris.target , predictions)\n",
    "\n",
    "print(score) #97.334% accuracy"
   ]
  },
  {
   "cell_type": "code",
   "execution_count": null,
   "metadata": {},
   "outputs": [],
   "source": []
  }
 ],
 "metadata": {
  "kernelspec": {
   "display_name": "Python 3",
   "language": "python",
   "name": "python3"
  },
  "language_info": {
   "codemirror_mode": {
    "name": "ipython",
    "version": 3
   },
   "file_extension": ".py",
   "mimetype": "text/x-python",
   "name": "python",
   "nbconvert_exporter": "python",
   "pygments_lexer": "ipython3",
   "version": "3.6.2"
  }
 },
 "nbformat": 4,
 "nbformat_minor": 2
}
