{
 "cells": [
  {
   "cell_type": "code",
   "execution_count": 1,
   "metadata": {},
   "outputs": [],
   "source": [
    "import numpy as np"
   ]
  },
  {
   "cell_type": "code",
   "execution_count": 7,
   "metadata": {},
   "outputs": [],
   "source": [
    "X = np.array([[0,0,1],\n",
    "            [0,1,1],\n",
    "            [1,0,1],\n",
    "            [1,1,1]])\n",
    "                \n",
    "Y = np.array([[0],[1],[1],[0]])"
   ]
  },
  {
   "cell_type": "code",
   "execution_count": 8,
   "metadata": {},
   "outputs": [],
   "source": [
    "def nonlin(x,deriv = False):\n",
    "    if(deriv == True):\n",
    "        return x*(1-x)\n",
    "    return 1/(1+np.exp(-x))"
   ]
  },
  {
   "cell_type": "code",
   "execution_count": 9,
   "metadata": {},
   "outputs": [],
   "source": [
    "Syn0 = 2*np.random.random((3,4)) - 1\n",
    "Syn1 = 2*np.random.random((4,1)) - 1"
   ]
  },
  {
   "cell_type": "code",
   "execution_count": 15,
   "metadata": {},
   "outputs": [
    {
     "name": "stdout",
     "output_type": "stream",
     "text": [
      "Error:0.0037457723002653734\n",
      "Error:0.003442782479411175\n",
      "Error:0.0032005269077232676\n",
      "Error:0.003001261947674585\n",
      "Error:0.002833722192777263\n",
      "Error:0.0026903704174459976\n"
     ]
    }
   ],
   "source": [
    "for iter in range(60000):\n",
    "    l0 = X\n",
    "    l1 = nonlin(np.dot(l0 , Syn0))\n",
    "    l2 = nonlin(np.dot(l1 , Syn1))\n",
    "    \n",
    "    l2_error = Y - l2\n",
    "    l2_delta = l2_error * nonlin(l2,deriv = True)\n",
    "    \n",
    "    l1_error = l2_delta.dot(Syn1.T)\n",
    "    l1_delta = l1_error * nonlin(l1,deriv = True)\n",
    "    \n",
    "    Syn1 += l1.T.dot(l2_delta)\n",
    "    Syn0 += l0.T.dot(l1_delta)\n",
    "    \n",
    "    if (iter % 10000) == 0:\n",
    "        print (\"Error:\" + str(np.mean(np.abs(l2_error))))\n",
    "    "
   ]
  },
  {
   "cell_type": "code",
   "execution_count": 16,
   "metadata": {},
   "outputs": [
    {
     "name": "stdout",
     "output_type": "stream",
     "text": [
      "[[0.00252895]\n",
      " [0.99823306]\n",
      " [0.99670081]\n",
      " [0.00266877]]\n"
     ]
    }
   ],
   "source": [
    "print(l2)"
   ]
  },
  {
   "cell_type": "code",
   "execution_count": null,
   "metadata": {},
   "outputs": [],
   "source": []
  }
 ],
 "metadata": {
  "kernelspec": {
   "display_name": "Python 3",
   "language": "python",
   "name": "python3"
  },
  "language_info": {
   "codemirror_mode": {
    "name": "ipython",
    "version": 3
   },
   "file_extension": ".py",
   "mimetype": "text/x-python",
   "name": "python",
   "nbconvert_exporter": "python",
   "pygments_lexer": "ipython3",
   "version": "3.6.2"
  }
 },
 "nbformat": 4,
 "nbformat_minor": 2
}
